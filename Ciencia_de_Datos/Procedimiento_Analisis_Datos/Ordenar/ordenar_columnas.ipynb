{
 "cells": [
  {
   "cell_type": "code",
   "execution_count": 1,
   "metadata": {},
   "outputs": [],
   "source": [
    "#ordena las columnas Motor y CO2 juntas\n",
    "import pandas as pd"
   ]
  },
  {
   "cell_type": "code",
   "execution_count": 2,
   "metadata": {},
   "outputs": [],
   "source": [
    "df = pd.read_csv(\"emisiones.csv\", delimiter=\";\")"
   ]
  },
  {
   "cell_type": "code",
   "execution_count": 3,
   "metadata": {},
   "outputs": [
    {
     "name": "stdout",
     "output_type": "stream",
     "text": [
      "          Marca  Motor  Cilindros  Consumo Ciudad  Consumo Carretera  CO2\n",
      "0      Delicacy    2.1          4            13.7                9.1  290\n",
      "1        Fusion    2.6          4            12.7                8.6  327\n",
      "2      Majestic    2.0          4            13.7                9.4  382\n",
      "3        Garnet    4.3          4            14.3                9.0  347\n",
      "4           Pit    3.6          4            14.6               10.4  377\n",
      "..          ...    ...        ...             ...                ...  ...\n",
      "94     Carquipo    3.7          4            16.7               10.3  248\n",
      "95         Carx    3.1          4            10.0                9.6  235\n",
      "96        Carya    3.6          4            11.5               10.2  239\n",
      "97  Picker Auto    3.9          4             9.3               11.2  230\n",
      "98     Ape Auto    2.1          4            12.2                7.2  278\n",
      "\n",
      "[99 rows x 6 columns]\n"
     ]
    }
   ],
   "source": [
    "print(df)"
   ]
  },
  {
   "cell_type": "code",
   "execution_count": 7,
   "metadata": {},
   "outputs": [],
   "source": [
    "#metodo iloc[] pasa los indices en el orden que deseas re-ordenarlos\n",
    "#cambiamos la columna index 5 en el lugar del index 2\n",
    "#asi las columnas motor y CO2 estan juntas\n",
    "df = df.iloc[:,[0,1,5,3,4,2]]"
   ]
  },
  {
   "cell_type": "code",
   "execution_count": 8,
   "metadata": {},
   "outputs": [
    {
     "name": "stdout",
     "output_type": "stream",
     "text": [
      "          Marca  Motor  CO2  Consumo Ciudad  Consumo Carretera  Cilindros\n",
      "0      Delicacy    2.1  290            13.7                9.1          4\n",
      "1        Fusion    2.6  327            12.7                8.6          4\n",
      "2      Majestic    2.0  382            13.7                9.4          4\n",
      "3        Garnet    4.3  347            14.3                9.0          4\n",
      "4           Pit    3.6  377            14.6               10.4          4\n",
      "..          ...    ...  ...             ...                ...        ...\n",
      "94     Carquipo    3.7  248            16.7               10.3          4\n",
      "95         Carx    3.1  235            10.0                9.6          4\n",
      "96        Carya    3.6  239            11.5               10.2          4\n",
      "97  Picker Auto    3.9  230             9.3               11.2          4\n",
      "98     Ape Auto    2.1  278            12.2                7.2          4\n",
      "\n",
      "[99 rows x 6 columns]\n"
     ]
    }
   ],
   "source": [
    "print(df)"
   ]
  }
 ],
 "metadata": {
  "kernelspec": {
   "display_name": "env",
   "language": "python",
   "name": "python3"
  },
  "language_info": {
   "codemirror_mode": {
    "name": "ipython",
    "version": 3
   },
   "file_extension": ".py",
   "mimetype": "text/x-python",
   "name": "python",
   "nbconvert_exporter": "python",
   "pygments_lexer": "ipython3",
   "version": "3.12.0"
  }
 },
 "nbformat": 4,
 "nbformat_minor": 2
}
