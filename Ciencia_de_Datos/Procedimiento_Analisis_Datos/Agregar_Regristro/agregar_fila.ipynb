{
 "cells": [
  {
   "cell_type": "code",
   "execution_count": 1,
   "metadata": {},
   "outputs": [],
   "source": [
    "import pandas as pd"
   ]
  },
  {
   "cell_type": "code",
   "execution_count": 2,
   "metadata": {},
   "outputs": [],
   "source": [
    "df = pd.read_csv(\"temperaturas.csv\", delimiter=\";\")"
   ]
  },
  {
   "cell_type": "code",
   "execution_count": 3,
   "metadata": {},
   "outputs": [
    {
     "name": "stdout",
     "output_type": "stream",
     "text": [
      "     Año  temperatura\n",
      "0   1960         71.4\n",
      "1   1961         71.9\n",
      "2   1962         71.9\n",
      "3   1963         72.3\n",
      "4   1964         71.7\n",
      "..   ...          ...\n",
      "57  2017         74.6\n",
      "58  2018         73.5\n",
      "59  2019         72.7\n",
      "60  2020         74.6\n",
      "61  2021         73.5\n",
      "\n",
      "[62 rows x 2 columns]\n"
     ]
    }
   ],
   "source": [
    "print(df)"
   ]
  },
  {
   "cell_type": "code",
   "execution_count": 6,
   "metadata": {},
   "outputs": [],
   "source": [
    "#nueva variable usa pandas DataFrame y el metodo from_dict() agrega fila como lista formato diccionario key-value\n",
    "nueva_temperatura = pd.DataFrame.from_dict([{\"Año\": \"2022\", \"temperatura\": \"74.3\"}])"
   ]
  },
  {
   "cell_type": "code",
   "execution_count": 7,
   "metadata": {},
   "outputs": [],
   "source": [
    "#concatena la info del df con la nueva variable, ignora el index\n",
    "df = pd.concat([df, nueva_temperatura], ignore_index=True)"
   ]
  },
  {
   "cell_type": "code",
   "execution_count": 8,
   "metadata": {},
   "outputs": [
    {
     "name": "stdout",
     "output_type": "stream",
     "text": [
      "     Año temperatura\n",
      "0   1960        71.4\n",
      "1   1961        71.9\n",
      "2   1962        71.9\n",
      "3   1963        72.3\n",
      "4   1964        71.7\n",
      "..   ...         ...\n",
      "58  2018        73.5\n",
      "59  2019        72.7\n",
      "60  2020        74.6\n",
      "61  2021        73.5\n",
      "62  2022        74.3\n",
      "\n",
      "[63 rows x 2 columns]\n"
     ]
    }
   ],
   "source": [
    "print(df)"
   ]
  }
 ],
 "metadata": {
  "kernelspec": {
   "display_name": "env",
   "language": "python",
   "name": "python3"
  },
  "language_info": {
   "codemirror_mode": {
    "name": "ipython",
    "version": 3
   },
   "file_extension": ".py",
   "mimetype": "text/x-python",
   "name": "python",
   "nbconvert_exporter": "python",
   "pygments_lexer": "ipython3",
   "version": "3.12.0"
  }
 },
 "nbformat": 4,
 "nbformat_minor": 2
}
