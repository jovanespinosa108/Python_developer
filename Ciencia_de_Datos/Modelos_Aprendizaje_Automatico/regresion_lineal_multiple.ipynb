{
 "cells": [
  {
   "cell_type": "code",
   "execution_count": 1,
   "metadata": {},
   "outputs": [],
   "source": [
    "import pandas as pd\n",
    "from sklearn.linear_model import LinearRegression\n",
    "from sklearn.model_selection import train_test_split\n",
    "from sklearn import metrics\n",
    "import numpy as np"
   ]
  },
  {
   "cell_type": "code",
   "execution_count": 2,
   "metadata": {},
   "outputs": [],
   "source": [
    "df = pd.read_csv('emisiones_ml.csv', delimiter=\";\")"
   ]
  },
  {
   "cell_type": "code",
   "execution_count": 3,
   "metadata": {},
   "outputs": [
    {
     "name": "stdout",
     "output_type": "stream",
     "text": [
      "<class 'pandas.core.frame.DataFrame'>\n",
      "RangeIndex: 91 entries, 0 to 90\n",
      "Data columns (total 6 columns):\n",
      " #   Column    Non-Null Count  Dtype  \n",
      "---  ------    --------------  -----  \n",
      " 0   Marca     91 non-null     object \n",
      " 1   Longitud  91 non-null     float64\n",
      " 2   Anchura   91 non-null     float64\n",
      " 3   Altura    91 non-null     float64\n",
      " 4   Maletero  91 non-null     int64  \n",
      " 5   CO2       91 non-null     int64  \n",
      "dtypes: float64(3), int64(2), object(1)\n",
      "memory usage: 4.4+ KB\n",
      "None\n"
     ]
    }
   ],
   "source": [
    "print(df.info())"
   ]
  },
  {
   "cell_type": "code",
   "execution_count": 4,
   "metadata": {},
   "outputs": [],
   "source": [
    "#se crean 2 matrices\n",
    "y = df[['CO2']]  #matiz con variable dependiente\n",
    "X = df[['Longitud', 'Anchura', 'Altura']] # matriz con variables independientes o de destino"
   ]
  },
  {
   "cell_type": "code",
   "execution_count": 5,
   "metadata": {},
   "outputs": [],
   "source": [
    "#se dividen los datos y se usa el 20% para prueba y el 80% que queda para prueba\n",
    "X_train, X_test, y_train, y_test = train_test_split(X, y, test_size= 0.20)"
   ]
  },
  {
   "cell_type": "code",
   "execution_count": 11,
   "metadata": {},
   "outputs": [],
   "source": [
    "#se crea el modelo de regresion con la funcion LinearRegression()\n",
    "regresion_lineal = LinearRegression()"
   ]
  },
  {
   "cell_type": "code",
   "execution_count": 13,
   "metadata": {},
   "outputs": [
    {
     "name": "stdout",
     "output_type": "stream",
     "text": [
      "Error absoluto medio:  40.217750394206654\n",
      "Error cuadratico medio:  2733.1837593190667\n",
      "Raiz del error cuadratico medio:  52.2798599779979\n"
     ]
    }
   ],
   "source": [
    "#se entrena el modelo usando conjuntos de entremamiento (train) de X y de \"y\"\n",
    "regresion_lineal.fit(X_train, y_train)\n",
    "\n",
    "#Se hace la prediccion de los datos de test de X, \n",
    "y_pred = regresion_lineal.predict(X_test)\n",
    "\n",
    "print('Error absoluto medio: ', metrics.mean_absolute_error(y_test, y_pred))\n",
    "print('Error cuadratico medio: ', metrics.mean_squared_error(y_test, y_pred))\n",
    "print('Raiz del error cuadratico medio: ', np.sqrt(metrics.mean_squared_error(y_test, y_pred)))\n",
    "#para la raiz del error cuadratico se usa la funcion square() de la libreria numpy"
   ]
  }
 ],
 "metadata": {
  "kernelspec": {
   "display_name": "env",
   "language": "python",
   "name": "python3"
  },
  "language_info": {
   "codemirror_mode": {
    "name": "ipython",
    "version": 3
   },
   "file_extension": ".py",
   "mimetype": "text/x-python",
   "name": "python",
   "nbconvert_exporter": "python",
   "pygments_lexer": "ipython3",
   "version": "3.12.0"
  }
 },
 "nbformat": 4,
 "nbformat_minor": 2
}
