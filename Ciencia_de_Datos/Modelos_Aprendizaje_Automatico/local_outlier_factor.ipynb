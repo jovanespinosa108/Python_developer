{
 "cells": [
  {
   "cell_type": "code",
   "execution_count": 1,
   "metadata": {},
   "outputs": [],
   "source": [
    "import pandas as pd\n",
    "from sklearn.neighbors import LocalOutlierFactor"
   ]
  },
  {
   "cell_type": "code",
   "execution_count": 3,
   "metadata": {},
   "outputs": [],
   "source": [
    "df = pd.read_csv(\"datos_atipicos.csv\", delimiter=\";\")"
   ]
  },
  {
   "cell_type": "code",
   "execution_count": 4,
   "metadata": {},
   "outputs": [
    {
     "name": "stdout",
     "output_type": "stream",
     "text": [
      "   Variable1  Variable2\n",
      "0  -4.030499  -6.955657\n",
      "1  -6.687653   7.467359\n",
      "2  -3.334960   5.775981\n",
      "3  -5.812554  -7.506389\n",
      "4  -6.648924   7.142999\n",
      "5   3.663714  -0.138394\n",
      "6  -7.102349   6.195012\n",
      "7  -6.445315   6.633077\n",
      "8  -4.471134  -6.203781\n",
      "9  -5.279436   5.533470\n"
     ]
    }
   ],
   "source": [
    "print(df.head(10))"
   ]
  },
  {
   "cell_type": "code",
   "execution_count": 5,
   "metadata": {},
   "outputs": [],
   "source": [
    "local_outlier_factor = LocalOutlierFactor() #crea una funcion para el modelo\n",
    "local_outlier_factor.fit(df) #entrena el modelo con los datos del df\n",
    "\n",
    "#crea nueva columna en df \"local_outlier\" y guarda las predicciones en la columna\n",
    "df[\"local_outlier\"] = local_outlier_factor.fit_predict(df)"
   ]
  },
  {
   "cell_type": "code",
   "execution_count": 6,
   "metadata": {},
   "outputs": [
    {
     "name": "stdout",
     "output_type": "stream",
     "text": [
      "local_outlier\n",
      " 1    959\n",
      "-1     41\n",
      "Name: count, dtype: int64\n"
     ]
    }
   ],
   "source": [
    "#imprime la nueva columna creada y cuenta sus valores con la funcion value_counts()\n",
    "print(df[\"local_outlier\"].value_counts())\n",
    "#41 datos atipicos\n",
    "#959 datos normales"
   ]
  }
 ],
 "metadata": {
  "kernelspec": {
   "display_name": "env",
   "language": "python",
   "name": "python3"
  },
  "language_info": {
   "codemirror_mode": {
    "name": "ipython",
    "version": 3
   },
   "file_extension": ".py",
   "mimetype": "text/x-python",
   "name": "python",
   "nbconvert_exporter": "python",
   "pygments_lexer": "ipython3",
   "version": "3.12.0"
  }
 },
 "nbformat": 4,
 "nbformat_minor": 2
}
