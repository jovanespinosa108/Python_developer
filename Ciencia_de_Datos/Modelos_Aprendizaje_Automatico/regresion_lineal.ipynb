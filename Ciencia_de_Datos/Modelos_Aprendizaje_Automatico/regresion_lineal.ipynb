{
 "cells": [
  {
   "cell_type": "code",
   "execution_count": 1,
   "metadata": {},
   "outputs": [],
   "source": [
    "import pandas as pd\n",
    "from sklearn.linear_model import LinearRegression\n",
    "from sklearn.model_selection import train_test_split"
   ]
  },
  {
   "cell_type": "code",
   "execution_count": 2,
   "metadata": {},
   "outputs": [],
   "source": [
    "df = pd.read_csv('empleados_ml.csv', delimiter=\";\")"
   ]
  },
  {
   "cell_type": "code",
   "execution_count": 3,
   "metadata": {},
   "outputs": [
    {
     "name": "stdout",
     "output_type": "stream",
     "text": [
      "      Nombre       Sexo Estado_Civil  Edad  Experiencia  Salario Gerencia  \\\n",
      "0  Alexandro  Masculino   Soltero(a)    22            3     2423       No   \n",
      "1     Felipa   Femenino   Soltero(a)    26            5     2639       No   \n",
      "2     Daniel  Masculino    Casado(a)    35           10     3122       No   \n",
      "3       John  Masculino    Casado(a)    35           13     3431       Sí   \n",
      "4    Ruperta   Femenino    Casado(a)    54           18     3962       No   \n",
      "\n",
      "           Departamento  \n",
      "0            Publicidad  \n",
      "1             Comercial  \n",
      "2             Comercial  \n",
      "3  Servicios al cliente  \n",
      "4              Producto  \n"
     ]
    }
   ],
   "source": [
    "print(df.head())"
   ]
  },
  {
   "cell_type": "code",
   "execution_count": 4,
   "metadata": {},
   "outputs": [],
   "source": [
    "y = df['Salario'].values.reshape(-1, 1) #matriz 1 con datos dependientes\n",
    "X = df['Experiencia'].values.reshape(-1, 1) #matriz 2 con datos independientes o destino"
   ]
  },
  {
   "cell_type": "code",
   "execution_count": 7,
   "metadata": {},
   "outputs": [],
   "source": [
    "#la funcion train_test_split() divide aleatoriamente un dataset en 2 bloques\n",
    "#un bloque de train y otro de test, con un porcenteje de test del 20%\n",
    "X_train, X_test, y_train, y_test = train_test_split(X, y, test_size=0.20)"
   ]
  },
  {
   "cell_type": "code",
   "execution_count": 8,
   "metadata": {},
   "outputs": [],
   "source": [
    "#crea el modelo de regresion lineal\n",
    "regresion_lineal = LinearRegression()"
   ]
  },
  {
   "cell_type": "code",
   "execution_count": 11,
   "metadata": {},
   "outputs": [
    {
     "name": "stdout",
     "output_type": "stream",
     "text": [
      "Coeficiente de regresion:  [[108.00811574]]\n",
      "Puntaje de regresion:  0.9878591136034074\n"
     ]
    }
   ],
   "source": [
    "#entrena el modelo usando los conjuntos de entrenamiento de la matriz 2\n",
    "regresion_lineal.fit(X_train, y_train)\n",
    "\n",
    "#se imprime el coeficiente de regresion y el puntaje (score) de regresion\n",
    "print('Coeficiente de regresion: ', regresion_lineal.coef_)\n",
    "print('Puntaje de regresion: ', regresion_lineal.score(X_test, y_test))\n",
    "\n",
    "#coeficiente proporciona la cantidad del aumento de salario por anio\n",
    "#puntaje proporciona la probabilidad que el aumento suceda"
   ]
  }
 ],
 "metadata": {
  "kernelspec": {
   "display_name": "env",
   "language": "python",
   "name": "python3"
  },
  "language_info": {
   "codemirror_mode": {
    "name": "ipython",
    "version": 3
   },
   "file_extension": ".py",
   "mimetype": "text/x-python",
   "name": "python",
   "nbconvert_exporter": "python",
   "pygments_lexer": "ipython3",
   "version": "3.12.0"
  }
 },
 "nbformat": 4,
 "nbformat_minor": 2
}
